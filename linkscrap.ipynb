{
 "cells": [
  {
   "cell_type": "code",
   "execution_count": 105,
   "metadata": {},
   "outputs": [],
   "source": [
    "import re\n",
    "import pandas as pd"
   ]
  },
  {
   "cell_type": "code",
   "execution_count": 106,
   "metadata": {},
   "outputs": [],
   "source": [
    "data_origin = pd.read_csv(\"./sources/2017.csv\",header=0)"
   ]
  },
  {
   "cell_type": "code",
   "execution_count": 110,
   "metadata": {},
   "outputs": [
    {
     "name": "stdout",
     "output_type": "stream",
     "text": [
      "现在正在处理 2017年北京大学毕业生就业质量年度报告\n",
      "现在正在处理 2017年清华大学毕业生就业质量报告\n",
      "现在正在处理 中国人民大学2017年毕业生就业质量报告\n",
      "现在正在处理 北京师范大学\n",
      "现在正在处理 中国农业大学2017年毕业生就业质量报告出炉\n",
      "现在正在处理 北京外国语大学2017年毕业生就业质量报告出炉\n",
      "现在正在处理 北京语言大学2017年毕业生就业质量年度报告\n",
      "现在正在处理 北京科技大学2017年毕业生就业质量年报发布\n",
      "现在正在处理 北京化工大学2017年毕业生就业质量报告出炉\n",
      "现在正在处理 2017北京交通大学毕业生就业质量报告出炉\n",
      "现在正在处理 北京邮电大学2017年毕业生就业质量报告\n",
      "现在正在处理 中国地质大学（北京）2017届毕业生就业质量报告\n",
      "现在正在处理 中国矿业大学2017年毕业生就业质量年度报告\n",
      "现在正在处理 中国石油大学（北京）2017年毕业生就业质量报告发布\n",
      "现在正在处理 北京林业大学2017年本科毕业生就业质量年度报告\n",
      "现在正在处理 中国传媒大学2017届毕业生就业质量报告\n",
      "现在正在处理 中央财经大学2017年毕业生就业质量报告\n",
      "现在正在处理 中国政法大学\n",
      "现在正在处理 中央音乐学院2017年毕业生就业质量报告\n",
      "现在正在处理 中央戏剧学院\n",
      "现在正在处理 中央美术学院2017届毕业生就业质量报告\n",
      "现在正在处理 北京中医药大学2017届毕业生就业质量报告\n",
      "现在正在处理 对外经济贸易大学2017年就业质量报告\n",
      "现在正在处理 华北电力大学2017届毕业生就业质量年度报告\n",
      "现在正在处理 南开大学2017届毕业生就业质量报告发布\n",
      "现在正在处理 天津大学2017年就业质量报告发布\n",
      "现在正在处理 大连理工大学2017届毕业生就业质量报告\n",
      "现在正在处理 东北大学就业报告 信息传输行业就业比例快速增长\n",
      "现在正在处理 吉林大学2017届毕业生就业质量年度报告\n",
      "现在正在处理 东北师范大学2017年毕业生就业质量年度报告出炉\n",
      "东北师范大学2017年毕业生就业质量年度报告出炉 文件链接异常\n",
      "现在正在处理 东北林业大学2017年毕业生就业质量报告出炉\n",
      "东北林业大学2017年毕业生就业质量报告出炉 文件链接异常\n",
      "现在正在处理 复旦大学2017\n",
      "现在正在处理 上海交通大学2017届毕业生就业质量报告\n",
      "现在正在处理 同济大学2017年毕业生就业质量报告\n",
      "现在正在处理 华东理工大学2017年度毕业生就业质量报告\n",
      "现在正在处理 东华大学2017届毕业生就业质量报告\n",
      "现在正在处理 华东师范大学2017届毕业生就业质量报告\n",
      "现在正在处理 上海外国语大学2017届毕业生就业质量报告\n",
      "现在正在处理 上海财经大学\n",
      "现在正在处理 南京大学2017年毕业生就业质量年度报告\n",
      "现在正在处理 东南大学2017届毕业生就业质量报告\n",
      "现在正在处理 中国矿业大学2017年毕业生就业质量报告\n",
      "现在正在处理 河海大学2017年毕业生就业质量年度报告\n",
      "现在正在处理 江南大学2017年毕业生就业质量报告\n",
      "江南大学2017年毕业生就业质量报告 文件链接异常\n",
      "现在正在处理 南京农业大学毕业生就业质量年度报告（2017）\n",
      "现在正在处理 中国药科大学\n",
      "现在正在处理 合肥工业大学2017年毕业生就业质量报告\n",
      "现在正在处理 浙江大学2017届毕业生就业质量年度报告\n",
      "现在正在处理 厦门大学2017届毕业生就业质量年度报告\n",
      "现在正在处理 山东大学\n",
      "现在正在处理 中国海洋大学2017年度毕业生就业质量报告\n",
      "现在正在处理 中国石油大学（华东）2017届毕业生就业质量报告\n",
      "现在正在处理 武汉大学2017届毕业生就业质量年度报告出炉\n",
      "现在正在处理 华中科技大学2017年本科毕业生就业质量年度报告\n",
      "现在正在处理 中国地质大学（武汉）2017届毕业生就业质量年度报告\n",
      "现在正在处理 武汉理工大学2017届毕业生就业质量年度报告\n",
      "现在正在处理 华中师范大学2017年毕业生就业质量报告\n",
      "现在正在处理 华中农业大学2017届毕业生就业质量年度报告\n",
      "现在正在处理 中南财经政法大学2017届毕业生就业质量报告\n",
      "现在正在处理 中南大学2017届毕业生就业质量年度报告\n",
      "现在正在处理 湖南大学2017届毕业生就业质量年度报告\n",
      "现在正在处理 中山大学2017届毕业生就业质量年度报告\n",
      "现在正在处理 华南理工大学2017年毕业生就业质量年度报告\n",
      "现在正在处理 重庆大学发布2017届毕业生就业质量年度报告\n",
      "现在正在处理 西南大学2017届毕业生就业质量年度报告\n",
      "现在正在处理 四川大学2017届毕业生就业质量报告\n",
      "现在正在处理 西南财经大学2017届毕业生就业质量报告\n",
      "现在正在处理 西南交通大学2017年毕业生就业质量年度报告\n",
      "现在正在处理 电子科技大学2017届毕业生就业质量年度报告\n",
      "现在正在处理 西安交通大学2017年毕业生就业质量报告\n",
      "现在正在处理 西北农林科技大学2017届毕业生就业质量报告\n",
      "现在正在处理 陕西师范大学2017年毕业生就业质量年度报告发布\n",
      "现在正在处理 西安电子科技大学2017届毕业生就业质量年度报告\n",
      "现在正在处理 长安大学2017届就业质量年度报告\n",
      "现在正在处理 兰州大学2017年毕业生就业质量报告发布\n"
     ]
    }
   ],
   "source": [
    "def getlink(feed):\n",
    "    print(\"现在正在处理\",feed['school'])\n",
    "    try:\n",
    "        link = re.findall(r'href=\"(.*)\"',feed['link'])[0]\n",
    "    except TypeError:\n",
    "        print(feed['school'],\"文件链接异常\")\n",
    "        feed['getlink']='error'\n",
    "        return feed\n",
    "    except IndexError:\n",
    "        print(feed['school'],\"文件链接异常\")\n",
    "        feed['getlink']='error'\n",
    "        return feed\n",
    "    feed['getlink']=link\n",
    "    return feed\n",
    "data_origin['school'] = data_origin['school'].str.strip()\n",
    "data_origin = data_origin.apply(getlink,axis=1)\n",
    "data_origin.to_excel(\"./sources/2017link.xlsx\")\n"
   ]
  },
  {
   "cell_type": "markdown",
   "metadata": {},
   "source": [
    "### Download Files"
   ]
  },
  {
   "cell_type": "code",
   "execution_count": 2,
   "metadata": {},
   "outputs": [],
   "source": [
    "#download_file\n",
    "import requests\n",
    "from bs4 import BeautifulSoup as bs\n",
    "import pandas as pd\n",
    "import os\n",
    "from tqdm import tqdm\n",
    "import re\n",
    "import chardet\n",
    "from selenium import webdriver\n",
    "\n",
    "def download_file(school,link):\n",
    "    print(\"Ready to retrieve files of \",school,\"\\n\")\n",
    "    try:\n",
    "        response = requests.get(link,stream=True)\n",
    "        content_size = int(response.headers['Content-Length'])/1024\n",
    "    except:\n",
    "        print(\"When downloading\",school,\",an error occurred.\")\n",
    "        return\n",
    "    if os.path.isdir(\"./downloads/2018\") is False:\n",
    "        os.mkdir(\"./downloads/2018\")\n",
    "    path = \"./downloads/2018/\"+school+\".pdf\"\n",
    "    with open(path,'wb') as f:\n",
    "        for i in tqdm(\n",
    "            iterable = response.iter_content(1024),\n",
    "            total=content_size,\n",
    "            unit='k',\n",
    "            desc=school\n",
    "        ):\n",
    "            f.write(i)\n",
    "    return 0\n",
    "\n",
    "def read_link(school='test',link='none'):\n",
    "    print(\"Trying to get response from \",school,\"\\n\")\n",
    "    ua = {'User-Agent':'Mozilla/5.0 (Windows NT 6.2; Win64; x64) Chrome/65.0.3325.181'}\n",
    "    try:\n",
    "        rqs=requests.get(link,headers=ua,timeout=3.0)\n",
    "        rqs.encoding = chardet.detect(rqs.content)['encoding'] #requests请求过程\n",
    "        if rqs.status_code==404:\n",
    "            print(school,\"网页404。\")\n",
    "            return -1\n",
    "    except(Exception) as e:\n",
    "        print(school,\"网页请求异常。\")\n",
    "        print(e)\n",
    "        return -1\n",
    "    html = rqs.content.decode('utf-8')\n",
    "    soup = bs(html,'lxml')\n",
    "    print(soup.find_all(\"title\"))\n",
    "    print(soup.find_all(name='a',attrs={\"href\":re.compile(r'.*')}))\n",
    "\n",
    "\n",
    "        "
   ]
  },
  {
   "cell_type": "code",
   "execution_count": null,
   "metadata": {},
   "outputs": [],
   "source": [
    "#2018\n",
    "data = pd.read_excel(\"./sources/2018link.xlsx\",header=0)\n",
    "df_school_link = data[['school','getlink']]\n",
    "for index,item in df_school_link.iterrows():\n",
    "    if item['getlink'] =='error':\n",
    "        print(item['school'],'下载链接异常')\n",
    "        continue\n",
    "    download_file(item['school'],item['getlink'])"
   ]
  },
  {
   "cell_type": "code",
   "execution_count": 3,
   "metadata": {},
   "outputs": [
    {
     "name": "stdout",
     "output_type": "stream",
     "text": [
      "   school                                              links status\n",
      "0    北京大学  https://scc.pku.edu.cn/news_ff8080816f1344ed01...  Ready\n",
      "1  中国人民大学  http://rdjy.ruc.edu.cn/html/main/col12/2019-12...  Ready\n",
      "2    清华大学  http://career.tsinghua.edu.cn/publish/career/8...  Ready\n",
      "3  北京科技大学  http://job.ustb.edu.cn/front/showContent.jspa?...  Ready\n",
      "4  北京化工大学   http://www.job.buct.edu.cn/news.asp?NewsId=38396  Ready\n"
     ]
    }
   ],
   "source": [
    "#2019\n",
    "data = pd.read_excel(\"./sources/links.xlsx\")\n",
    "data['status'] = 'Ready'\n",
    "print(data.head(5))\n"
   ]
  },
  {
   "cell_type": "code",
   "execution_count": 6,
   "metadata": {},
   "outputs": [
    {
     "name": "stdout",
     "output_type": "stream",
     "text": [
      "Trying to get response from  人大 \n",
      "\n",
      "[<title>中国农业大学 学校公告 中国农业大学2019年毕业生就业质量报告</title>]\n",
      "[<a href=\"http://my.cau.edu.cn/\" target=\"_blank\">校内平台</a>, <a href=\"https://vpn.cau.edu.cn\" target=\"_blank\">校外VPN</a>, <a href=\"https://mail.cau.edu.cn\" target=\"_blank\">网络邮局</a>, <a href=\"/col/col10235/index.html\">考生</a>, <a href=\"http://110th.cau.edu.cn/\" target=\"_blank\">校友</a>, <a href=\"/col/col10243/index.html\">访客</a>, <a href=\"/col/col36015/index.html\" target=\"_blank\">应聘者</a>, <a href=\"http://gzc.cau.edu.cn/sfw_cms/e?page=cms.index\" target=\"_blank\">工程招标</a>, <a href=\"http://my.cau.edu.cn/\" target=\"_blank\">校内平台</a>, <a href=\"https://vpn.cau.edu.cn\" target=\"_blank\">校外VPN</a>, <a href=\"https://mail.cau.edu.cn\" target=\"_blank\">网络邮局</a>, <a href=\"/col/col10235/index.html\">考生</a>, <a href=\"http://110th.cau.edu.cn/\" target=\"_blank\">校友</a>, <a href=\"/col/col10243/index.html\">访客</a>, <a href=\"/col/col36015/index.html\" target=\"_blank\">应聘者</a>, <a href=\"http://gzc.cau.edu.cn/sfw_cms/e?page=cms.index\" target=\"_blank\">工程招标</a>, <a href=\"http://www2003.cau.edu.cn\" target=\"_blank\"><b>旧版主页</b></a>, <a class=\"logo\" href=\"/index.html\"><img alt=\"\" src=\"/images/2/logo.png\"/></a>, <a href=\"http://en.cau.edu.cn/\" target=\"_blank\">English Version</a>, <a class=\"advancedsearch\" href=\"/jsearch/index.jsp?pagemode=advsearch&amp;appid=1&amp;style=1\" target=\"_blank\">精确搜索</a>, <a class=\"t\" href=\"/index.html\">首页</a>, <a class=\"t\" href=\"/col/col10207/index.html\">学校概况</a>, <a class=\"list\" href=\"/col/col10247/index.html\">学校简介</a>, <a class=\"list\" href=\"/col/col16807/index.html\">大学章程</a>, <a class=\"list\" href=\"/col/col10248/index.html\">基本数据</a>, <a class=\"list\" href=\"/col/col10387/index.html\">学校领导</a>, <a class=\"list\" href=\"/col/col10256/index.html\">校史沿革</a>, <a class=\"list\" href=\"/col/col10251/index.html\">文化标识</a>, <a class=\"list\" href=\"http://xxgk.cau.edu.cn/\" target=\"_blank\">信息公开</a>, <a class=\"list\" href=\"/col/col10262/index.html\">交通导游</a>, <a class=\"list\" href=\"/col/col26127/index.html\"> 部门黄页</a>, <a class=\"t\" href=\"http://news.cau.edu.cn/\" target=\"_blank\">新闻资讯</a>, <a class=\"t\" href=\"/col/col10227/index.html\">学院部门</a>, <a class=\"t\" href=\"/col/col10228/index.html\">教育教学</a>, <a class=\"list\" href=\"/col/col10264/index.html\">本科生教育</a>, <a class=\"list\" href=\"/col/col10265/index.html\">研究生教育</a>, <a class=\"list\" href=\"/col/col10268/index.html\">继续教育</a>, <a class=\"list\" href=\"/col/col10266/index.html\">国际学生教育</a>, <a class=\"list\" href=\"/col/col10267/index.html\">中外合作办学</a>, <a class=\"list\" href=\"http://rsc.cau.edu.cn/col/col2421/index.html\" target=\"_blank\">师资队伍</a>, <a class=\"list\" href=\"http://faculty.cau.edu.cn/\" target=\"_blank\">教师个人网页</a>, <a class=\"t\" href=\"/col/col10229/index.html\">学科科研</a>, <a class=\"list\" href=\"/col/col10269/index.html\">学科建设</a>, <a class=\"list\" href=\"/col/col10270/index.html\">科学研究</a>, <a class=\"list\" href=\"/col/col13687/index.html\">学术会议</a>, <a class=\"list\" href=\"http://kyy.cau.edu.cn/col/col23614/index.html\" target=\"_blank\">学术期刊</a>, <a class=\"t\" href=\"/col/col10230/index.html\">招生就业</a>, <a class=\"list\" href=\"/col/col10271/index.html\">招生</a>, <a class=\"list\" href=\"/col/col10272/index.html\">就业</a>, <a class=\"t\" href=\"/col/col10231/index.html\">海外交流</a>, <a class=\"list\" href=\"/col/col10273/index.html\">概况</a>, <a class=\"list\" href=\"/col/col10275/index.html\">教育合作</a>, <a class=\"list\" href=\"/col/col10276/index.html\">科技合作</a>, <a class=\"list\" href=\"/col/col10277/index.html\">国际会议</a>, <a class=\"list\" href=\"/col/col10278/index.html\">港澳台事务</a>, <a class=\"list\" href=\"/col/col10266/index.html\">国际学生教育</a>, <a class=\"list\" href=\"/col/col10267/index.html\">中外合作办学</a>, <a class=\"list\" href=\"/col/col10274/index.html\">合作伙伴</a>, <a class=\"t\" href=\"/col/col10232/index.html\">文化生活</a>, <a class=\"list\" href=\"/col/col10322/index.html\">奥运体育馆</a>, <a class=\"list\" href=\"/col/col10323/index.html\">文化艺术馆</a>, <a class=\"list\" href=\"/col/col10324/index.html\">名家论坛</a>, <a class=\"list\" href=\"http://ljs.cau.edu.cn\">老教授协会</a>, <a class=\"list\" href=\"/col/col10325/index.html\">学生社团</a>, <a class=\"list\" href=\"/col/col10326/index.html\">志愿服务</a>, <a class=\"list\" href=\"/col/col10327/index.html\">社会实践</a>, <a class=\"t\" href=\"/col/col10233/index.html\">社会服务</a>, <a class=\"list\" href=\"/col/col10348/index.html\">技术推广</a>, <a class=\"list\" href=\"/col/col10349/index.html\">产业合作</a>, <a class=\"list\" href=\"/col/col10350/index.html\">人才培训</a>, <a class=\"list\" href=\"/col/col10351/index.html\">对口支援</a>, <a class=\"list\" href=\"/col/col10352/index.html\">定点扶贫</a>, <a class=\"t\" href=\"http://cauef.cau.edu.cn/\" target=\"_blank\">教育基金</a>, <a class=\"t\" href=\"http://rencai.cau.edu.cn\" target=\"_blank\">人才招聘</a>, <a class=\"home\" href=\"/\">首页</a>, <a href=\"/col/col10353/index.html\">学校公告</a>, <a href=\"/col/col10353/index.html\">学校公告</a>, <a href=\"/module/download/downfile.jsp?classid=0&amp;filename=74232829616a4d38b067c02770fa10f3.pdf\"><img src=\"/module/jslib/icons/acrobat.png\"/><span style=\"font-size: 20px;\">中国农业大学2019届毕业生就业质量报告.pdf</span></a>, <a href=\"javascript:window.print()\">【打印本页】</a>, <a href=\"javascript:window.close()\">【关闭本页】</a>, <a href=\"http://www.beian.miit.gov.cn\" style=\"color: white\" target=\"_blank\">京ICP备05004632号-1</a>]\n"
     ]
    },
    {
     "ename": "SessionNotCreatedException",
     "evalue": "Message: session not created: This version of Microsoft Edge WebDriver only supports Microsoft Edge version 105\nCurrent browser version is 103.0.1264.44 with binary path C:\\Program Files (x86)\\Microsoft\\Edge\\Application\\msedge.exe\n",
     "output_type": "error",
     "traceback": [
      "\u001b[1;31m---------------------------------------------------------------------------\u001b[0m",
      "\u001b[1;31mSessionNotCreatedException\u001b[0m                Traceback (most recent call last)",
      "\u001b[1;32mc:\\Users\\jonas\\Documents\\Python Scripts\\college\\linkscrap.ipynb Cell 8'\u001b[0m in \u001b[0;36m<cell line: 3>\u001b[1;34m()\u001b[0m\n\u001b[0;32m      <a href='vscode-notebook-cell:/c%3A/Users/jonas/Documents/Python%20Scripts/college/linkscrap.ipynb#ch0000007?line=0'>1</a>\u001b[0m link \u001b[39m=\u001b[39m \u001b[39m\"\u001b[39m\u001b[39mhttps://www.cau.edu.cn/art/2019/12/31/art_10353_657700.html\u001b[39m\u001b[39m\"\u001b[39m\n\u001b[0;32m      <a href='vscode-notebook-cell:/c%3A/Users/jonas/Documents/Python%20Scripts/college/linkscrap.ipynb#ch0000007?line=1'>2</a>\u001b[0m read_link(school\u001b[39m=\u001b[39m\u001b[39m\"\u001b[39m\u001b[39m人大\u001b[39m\u001b[39m\"\u001b[39m,link\u001b[39m=\u001b[39mlink)\n\u001b[1;32m----> <a href='vscode-notebook-cell:/c%3A/Users/jonas/Documents/Python%20Scripts/college/linkscrap.ipynb#ch0000007?line=2'>3</a>\u001b[0m driver \u001b[39m=\u001b[39m webdriver\u001b[39m.\u001b[39;49mEdge()\n\u001b[0;32m      <a href='vscode-notebook-cell:/c%3A/Users/jonas/Documents/Python%20Scripts/college/linkscrap.ipynb#ch0000007?line=3'>4</a>\u001b[0m driver\u001b[39m.\u001b[39mget(link)\n",
      "File \u001b[1;32mc:\\Users\\jonas\\anaconda3\\lib\\site-packages\\selenium\\webdriver\\edge\\webdriver.py:61\u001b[0m, in \u001b[0;36mWebDriver.__init__\u001b[1;34m(self, executable_path, capabilities, port, verbose, service_log_path, log_path, keep_alive)\u001b[0m\n\u001b[0;32m     58\u001b[0m \u001b[39mif\u001b[39;00m capabilities \u001b[39mis\u001b[39;00m \u001b[39mNone\u001b[39;00m:\n\u001b[0;32m     59\u001b[0m     capabilities \u001b[39m=\u001b[39m DesiredCapabilities\u001b[39m.\u001b[39mEDGE\n\u001b[1;32m---> 61\u001b[0m RemoteWebDriver\u001b[39m.\u001b[39;49m\u001b[39m__init__\u001b[39;49m(\n\u001b[0;32m     62\u001b[0m     \u001b[39mself\u001b[39;49m,\n\u001b[0;32m     63\u001b[0m     command_executor\u001b[39m=\u001b[39;49mRemoteConnection(\u001b[39m'\u001b[39;49m\u001b[39mhttp://localhost:\u001b[39;49m\u001b[39m%d\u001b[39;49;00m\u001b[39m'\u001b[39;49m \u001b[39m%\u001b[39;49m \u001b[39mself\u001b[39;49m\u001b[39m.\u001b[39;49mport,\n\u001b[0;32m     64\u001b[0m                                       resolve_ip\u001b[39m=\u001b[39;49m\u001b[39mFalse\u001b[39;49;00m,\n\u001b[0;32m     65\u001b[0m                                       keep_alive\u001b[39m=\u001b[39;49mkeep_alive),\n\u001b[0;32m     66\u001b[0m     desired_capabilities\u001b[39m=\u001b[39;49mcapabilities)\n\u001b[0;32m     67\u001b[0m \u001b[39mself\u001b[39m\u001b[39m.\u001b[39m_is_remote \u001b[39m=\u001b[39m \u001b[39mFalse\u001b[39;00m\n",
      "File \u001b[1;32mc:\\Users\\jonas\\anaconda3\\lib\\site-packages\\selenium\\webdriver\\remote\\webdriver.py:157\u001b[0m, in \u001b[0;36mWebDriver.__init__\u001b[1;34m(self, command_executor, desired_capabilities, browser_profile, proxy, keep_alive, file_detector, options)\u001b[0m\n\u001b[0;32m    154\u001b[0m \u001b[39mif\u001b[39;00m browser_profile \u001b[39mis\u001b[39;00m \u001b[39mnot\u001b[39;00m \u001b[39mNone\u001b[39;00m:\n\u001b[0;32m    155\u001b[0m     warnings\u001b[39m.\u001b[39mwarn(\u001b[39m\"\u001b[39m\u001b[39mPlease use FirefoxOptions to set browser profile\u001b[39m\u001b[39m\"\u001b[39m,\n\u001b[0;32m    156\u001b[0m                   \u001b[39mDeprecationWarning\u001b[39;00m, stacklevel\u001b[39m=\u001b[39m\u001b[39m2\u001b[39m)\n\u001b[1;32m--> 157\u001b[0m \u001b[39mself\u001b[39;49m\u001b[39m.\u001b[39;49mstart_session(capabilities, browser_profile)\n\u001b[0;32m    158\u001b[0m \u001b[39mself\u001b[39m\u001b[39m.\u001b[39m_switch_to \u001b[39m=\u001b[39m SwitchTo(\u001b[39mself\u001b[39m)\n\u001b[0;32m    159\u001b[0m \u001b[39mself\u001b[39m\u001b[39m.\u001b[39m_mobile \u001b[39m=\u001b[39m Mobile(\u001b[39mself\u001b[39m)\n",
      "File \u001b[1;32mc:\\Users\\jonas\\anaconda3\\lib\\site-packages\\selenium\\webdriver\\remote\\webdriver.py:252\u001b[0m, in \u001b[0;36mWebDriver.start_session\u001b[1;34m(self, capabilities, browser_profile)\u001b[0m\n\u001b[0;32m    249\u001b[0m w3c_caps \u001b[39m=\u001b[39m _make_w3c_caps(capabilities)\n\u001b[0;32m    250\u001b[0m parameters \u001b[39m=\u001b[39m {\u001b[39m\"\u001b[39m\u001b[39mcapabilities\u001b[39m\u001b[39m\"\u001b[39m: w3c_caps,\n\u001b[0;32m    251\u001b[0m               \u001b[39m\"\u001b[39m\u001b[39mdesiredCapabilities\u001b[39m\u001b[39m\"\u001b[39m: capabilities}\n\u001b[1;32m--> 252\u001b[0m response \u001b[39m=\u001b[39m \u001b[39mself\u001b[39;49m\u001b[39m.\u001b[39;49mexecute(Command\u001b[39m.\u001b[39;49mNEW_SESSION, parameters)\n\u001b[0;32m    253\u001b[0m \u001b[39mif\u001b[39;00m \u001b[39m'\u001b[39m\u001b[39msessionId\u001b[39m\u001b[39m'\u001b[39m \u001b[39mnot\u001b[39;00m \u001b[39min\u001b[39;00m response:\n\u001b[0;32m    254\u001b[0m     response \u001b[39m=\u001b[39m response[\u001b[39m'\u001b[39m\u001b[39mvalue\u001b[39m\u001b[39m'\u001b[39m]\n",
      "File \u001b[1;32mc:\\Users\\jonas\\anaconda3\\lib\\site-packages\\selenium\\webdriver\\remote\\webdriver.py:321\u001b[0m, in \u001b[0;36mWebDriver.execute\u001b[1;34m(self, driver_command, params)\u001b[0m\n\u001b[0;32m    319\u001b[0m response \u001b[39m=\u001b[39m \u001b[39mself\u001b[39m\u001b[39m.\u001b[39mcommand_executor\u001b[39m.\u001b[39mexecute(driver_command, params)\n\u001b[0;32m    320\u001b[0m \u001b[39mif\u001b[39;00m response:\n\u001b[1;32m--> 321\u001b[0m     \u001b[39mself\u001b[39;49m\u001b[39m.\u001b[39;49merror_handler\u001b[39m.\u001b[39;49mcheck_response(response)\n\u001b[0;32m    322\u001b[0m     response[\u001b[39m'\u001b[39m\u001b[39mvalue\u001b[39m\u001b[39m'\u001b[39m] \u001b[39m=\u001b[39m \u001b[39mself\u001b[39m\u001b[39m.\u001b[39m_unwrap_value(\n\u001b[0;32m    323\u001b[0m         response\u001b[39m.\u001b[39mget(\u001b[39m'\u001b[39m\u001b[39mvalue\u001b[39m\u001b[39m'\u001b[39m, \u001b[39mNone\u001b[39;00m))\n\u001b[0;32m    324\u001b[0m     \u001b[39mreturn\u001b[39;00m response\n",
      "File \u001b[1;32mc:\\Users\\jonas\\anaconda3\\lib\\site-packages\\selenium\\webdriver\\remote\\errorhandler.py:242\u001b[0m, in \u001b[0;36mErrorHandler.check_response\u001b[1;34m(self, response)\u001b[0m\n\u001b[0;32m    240\u001b[0m         alert_text \u001b[39m=\u001b[39m value[\u001b[39m'\u001b[39m\u001b[39malert\u001b[39m\u001b[39m'\u001b[39m]\u001b[39m.\u001b[39mget(\u001b[39m'\u001b[39m\u001b[39mtext\u001b[39m\u001b[39m'\u001b[39m)\n\u001b[0;32m    241\u001b[0m     \u001b[39mraise\u001b[39;00m exception_class(message, screen, stacktrace, alert_text)\n\u001b[1;32m--> 242\u001b[0m \u001b[39mraise\u001b[39;00m exception_class(message, screen, stacktrace)\n",
      "\u001b[1;31mSessionNotCreatedException\u001b[0m: Message: session not created: This version of Microsoft Edge WebDriver only supports Microsoft Edge version 105\nCurrent browser version is 103.0.1264.44 with binary path C:\\Program Files (x86)\\Microsoft\\Edge\\Application\\msedge.exe\n"
     ]
    }
   ],
   "source": [
    "link = \"https://www.cau.edu.cn/art/2019/12/31/art_10353_657700.html\"\n",
    "read_link(school=\"人大\",link=link)\n",
    "driver = webdriver.Edge()\n",
    "driver.get(link)"
   ]
  }
 ],
 "metadata": {
  "kernelspec": {
   "display_name": "Python 3.9.12 ('base')",
   "language": "python",
   "name": "python3"
  },
  "language_info": {
   "codemirror_mode": {
    "name": "ipython",
    "version": 3
   },
   "file_extension": ".py",
   "mimetype": "text/x-python",
   "name": "python",
   "nbconvert_exporter": "python",
   "pygments_lexer": "ipython3",
   "version": "3.9.12"
  },
  "orig_nbformat": 4,
  "vscode": {
   "interpreter": {
    "hash": "f53b217d8430526303bffcd87b390d5c67e67390f11595101f60a03768747934"
   }
  }
 },
 "nbformat": 4,
 "nbformat_minor": 2
}
